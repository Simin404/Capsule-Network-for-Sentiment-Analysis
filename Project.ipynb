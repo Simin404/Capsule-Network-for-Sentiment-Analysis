{
  "nbformat": 4,
  "nbformat_minor": 0,
  "metadata": {
    "accelerator": "GPU",
    "colab": {
      "name": "Project.ipynb",
      "provenance": [],
      "collapsed_sections": [
        "0TGtsaA3j5yJ"
      ]
    },
    "kernelspec": {
      "display_name": "Python 3",
      "name": "python3"
    },
    "language_info": {
      "name": "python"
    }
  },
  "cells": [
    {
      "cell_type": "markdown",
      "metadata": {
        "id": "g2PWyNQPi3hb"
      },
      "source": [
        "# 配置环境"
      ]
    },
    {
      "cell_type": "code",
      "metadata": {
        "id": "M18M2iZBIreu",
        "colab": {
          "base_uri": "https://localhost:8080/"
        },
        "outputId": "2a4091f7-d041-4e64-a9d8-0777f4e15e3b"
      },
      "source": [
        "#挂载网盘\n",
        "from google.colab import drive\n",
        "drive.mount('/content/drive')"
      ],
      "execution_count": null,
      "outputs": [
        {
          "output_type": "stream",
          "name": "stdout",
          "text": [
            "Mounted at /content/drive\n"
          ]
        }
      ]
    },
    {
      "cell_type": "code",
      "metadata": {
        "id": "QF6mxmscBO7y"
      },
      "source": [
        "#安装CONDA方便配置环境\n",
        "%%bash\n",
        "MINICONDA_INSTALLER_SCRIPT=Miniconda3-4.7.12-Linux-x86_64.sh #Conda最新版本不兼容python2\n",
        "MINICONDA_PREFIX=/usr/local\n",
        "wget https://repo.continuum.io/miniconda/$MINICONDA_INSTALLER_SCRIPT\n",
        "chmod +x $MINICONDA_INSTALLER_SCRIPT\n",
        "./$MINICONDA_INSTALLER_SCRIPT -b -f -p $MINICONDA_PREFIX\n",
        "\n",
        "#Conda配置python 2\n",
        "conda install --channel defaults conda python=2.7 --yes\n",
        "conda update --channel defaults --all --yes\n",
        "\n",
        "#检查环境\n",
        "!which conda # 返回/usr/local/bin/conda\n",
        "!conda --version # 返回conda 版本\n",
        "!which python # 依旧是/usr/local/bin/python\n",
        "!python --version # 返回 Python 版本 :: Anaconda, Inc."
      ],
      "execution_count": null,
      "outputs": []
    },
    {
      "cell_type": "code",
      "metadata": {
        "id": "jcAslqKZCtMq"
      },
      "source": [
        "#conda配置tensorflow-gpu\n",
        "!conda install tensorflow-gpu=1.14.0 --yes\n",
        "#安装依赖包 不要轻易修改版本！\n",
        "#!pip install -r /content/drive/MyDrive/capsule/requirements.txt\n",
        "!pip install tensorflow-gpu==1.14.0\n",
        "!pip install keras==2.2.0 #尤其是这个\n",
        "!pip install keras-applications==1.0.6\n",
        "!pip install keras-preprocessing==1.0.5\n",
        "!pip install sklearn\n",
        "!pip install nltk==3.4.5"
      ],
      "execution_count": null,
      "outputs": []
    },
    {
      "cell_type": "markdown",
      "metadata": {
        "id": "0TGtsaA3j5yJ"
      },
      "source": [
        "# 预处理"
      ]
    },
    {
      "cell_type": "code",
      "metadata": {
        "id": "NhL-qe3vkPjM"
      },
      "source": [
        "#下载nltk包\n",
        "import nltk\n",
        "nltk.download('punkt')\n",
        "nltk.download('stopwords')\n",
        "nltk.download('reuters')"
      ],
      "execution_count": null,
      "outputs": []
    },
    {
      "cell_type": "code",
      "metadata": {
        "id": "Gw4OhN4GnKiu"
      },
      "source": [
        "%%bash\n",
        "cd /root/nltk_data/corpora/\n",
        "ls"
      ],
      "execution_count": null,
      "outputs": []
    },
    {
      "cell_type": "code",
      "metadata": {
        "id": "vivi81egj7bW"
      },
      "source": [
        "#预处理数据\n",
        "!python /content/drive/MyDrive/capsule/reuters_process.py"
      ],
      "execution_count": null,
      "outputs": []
    },
    {
      "cell_type": "markdown",
      "metadata": {
        "id": "VsewkMfakHSI"
      },
      "source": [
        "# 模型"
      ]
    },
    {
      "cell_type": "code",
      "metadata": {
        "id": "L7HetSsYQO8a"
      },
      "source": [
        "#CNN\n",
        "!python /content/drive/MyDrive/capsule/main.py --model_type CNN --learning_rate 0.0005"
      ],
      "execution_count": null,
      "outputs": []
    },
    {
      "cell_type": "code",
      "metadata": {
        "id": "JKkcxUTtJk8d"
      },
      "source": [
        "#Capsule-A\n",
        "!python /content/drive/MyDrive/capsule/main.py --model_type capsule-A --learning_rate 0.001 --batch_size 36"
      ],
      "execution_count": null,
      "outputs": []
    },
    {
      "cell_type": "code",
      "metadata": {
        "id": "QqayIi_lke_9"
      },
      "source": [
        "#Capsule-B\n",
        "!python /content/drive/MyDrive/capsule/main.py --model_type capsule-B --learning_rate 0.001"
      ],
      "execution_count": null,
      "outputs": []
    },
    {
      "cell_type": "markdown",
      "metadata": {
        "id": "2B-20Q0NkOTG"
      },
      "source": [
        "运行结果保存在[RESULT](https://docs.google.com/spreadsheets/d/15wkZQhAhCREJ0CzETM6Szj9ExckUREOfRnB22aa1QT0/edit?usp=sharing)"
      ]
    },
    {
      "cell_type": "code",
      "metadata": {
        "id": "cnOmmklvp07V"
      },
      "source": [
        "import matplotlib.pyplot as plt\n",
        "import  numpy as np\n",
        "plt.figure()\n",
        "plt.rcParams['font.sans-serif']='SimHei'\n",
        "plt.rcParams['axes.unicode_minus']=False\n",
        "x = [8,16,32,36,40,64,128]\n",
        "y2 = [85.7,86.1,86.5,87,87.2,87,87.1]\n",
        "plt.plot(x,y2,color='black', linewidth=1.2, marker=\".\", markersize=7)\n",
        "plt.xlabel(\"batchsize\")\n",
        "plt.ylabel(\"accuracy (%)\",rotation=90,horizontalalignment='right')\n",
        "plt.show()"
      ],
      "execution_count": null,
      "outputs": []
    },
    {
      "cell_type": "code",
      "metadata": {
        "colab": {
          "base_uri": "https://localhost:8080/",
          "height": 279
        },
        "id": "YxLcj-tHrGea",
        "outputId": "f413f396-4f01-413d-d2dc-cad2b51d3d81"
      },
      "source": [
        "import matplotlib.pyplot as plt\n",
        "import  numpy as np\n",
        "plt.figure()\n",
        "plt.rcParams['font.sans-serif']='SimHei'\n",
        "plt.rcParams['axes.unicode_minus']=False\n",
        "x = [5,8,10,12,14,16,20]\n",
        "y2 = [0.0758,0.0674,0.0648,0.0650,0.0651,0.0648,0.0649]\n",
        "plt.plot(x,y2,color='black', linewidth=1.2, marker=\".\", markersize=7)\n",
        "plt.xlabel(\"epoch\")\n",
        "plt.ylabel(\"loss\",rotation=90,horizontalalignment='right')\n",
        "plt.show()"
      ],
      "execution_count": null,
      "outputs": [
        {
          "output_type": "display_data",
          "data": {
            "image/png": "[encoded data removed]",
            "text/plain": [
              "<Figure size 432x288 with 1 Axes>"
            ]
          },
          "metadata": {
            "needs_background": "light"
          }
        }
      ]
    }
  ]
}